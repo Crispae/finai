{
 "cells": [
  {
   "cell_type": "code",
   "execution_count": 1,
   "id": "62018861-a4bb-45d9-a7cd-2f9ebf0a13ec",
   "metadata": {},
   "outputs": [],
   "source": [
    "import neo4j\n",
    "import os"
   ]
  },
  {
   "cell_type": "code",
   "execution_count": 2,
   "id": "2bae0433-779d-4fad-ae8d-856db3d0e9d6",
   "metadata": {},
   "outputs": [],
   "source": [
    "NEO4J_URI = \"bolt://0.0.0.0:7687\"\n",
    "NEO4J_USERNAME = input(\"Your Neo4j username.\")\n",
    "NEO4J_PASSWORD = input(\"Your Neo4j password.\")"
   ]
  },
  {
   "cell_type": "code",
   "execution_count": 16,
   "id": "f37c325b",
   "metadata": {},
   "outputs": [],
   "source": [
    "ROOT_DIR = \"/Users/m.mohammed/Downloads\""
   ]
  },
  {
   "cell_type": "code",
   "execution_count": 3,
   "id": "debc7b2e-ce57-4ebf-9607-7cafbb9bd40c",
   "metadata": {},
   "outputs": [],
   "source": [
    "os.environ[\"OPENAI_API_KEY\"] = input(\"Your OPENAI_API_KEY\")"
   ]
  },
  {
   "cell_type": "code",
   "execution_count": 26,
   "id": "c149a99c",
   "metadata": {},
   "outputs": [],
   "source": [
    "os.environ[\"MISTRAL_API_KEY\"] = input(\"your MISTRAL_API_KEY\")"
   ]
  },
  {
   "cell_type": "code",
   "execution_count": 6,
   "id": "35f83767-b9f9-4ec9-81e9-04d6d91bc59c",
   "metadata": {},
   "outputs": [],
   "source": [
    "neo4j_driver = neo4j.GraphDatabase.driver(NEO4J_URI,\n",
    "                                         auth=(NEO4J_USERNAME, NEO4J_PASSWORD))"
   ]
  },
  {
   "cell_type": "code",
   "execution_count": 21,
   "id": "8ee8f40e-7b54-45cc-ba5c-65e3392c9113",
   "metadata": {},
   "outputs": [],
   "source": [
    "from neo4j_graphrag.llm import OpenAILLM\n",
    "from neo4j_graphrag.llm import MistralAILLM\n",
    "\n",
    "\n",
    "from neo4j_graphrag.embeddings.openai import OpenAIEmbeddings\n",
    "\n",
    "class Models:\n",
    "    OPEN_AI = \"OPEN_AI\"\n",
    "    MISTRAL_AI = \"MISTRAL_AI\"\n",
    "\n",
    "def get_llm(type: str = Models.OPEN_AI):\n",
    "    llm = None\n",
    "    if type == Models.MISTRAL_AI:\n",
    "        llm = MistralAILLM(\n",
    "            # mistral-large-latest\n",
    "            model_name=\"mistral-large-latest\",\n",
    "        )\n",
    "        llm.invoke(\"say something\")\n",
    "    else:\n",
    "        llm = OpenAILLM(\n",
    "            model_name=\"gpt-4o-mini\",\n",
    "            model_params={\n",
    "                \"response_format\": {\"type\": \"json_object\"}, # use json_object formatting for best results\n",
    "                \"temperature\": 0 # turning temperature down for more deterministic results\n",
    "            }\n",
    "    )\n",
    "    return llm   "
   ]
  },
  {
   "cell_type": "code",
   "execution_count": 8,
   "id": "b102be0c-4d5c-40e7-b59d-177ace03826a",
   "metadata": {},
   "outputs": [],
   "source": [
    "#create text embedder\n",
    "embedder = OpenAIEmbeddings()"
   ]
  },
  {
   "cell_type": "code",
   "execution_count": 9,
   "id": "aa1c949f-e222-477b-8d84-3328a18ffe56",
   "metadata": {},
   "outputs": [],
   "source": [
    "# Basic node labels used in your current domain (politics, etc.)\n",
    "basic_node_labels = [\n",
    "    \"Person\",\n",
    "    \"Position\",\n",
    "    \"PoliticalParty\",\n",
    "    \"Direction\",\n",
    "    \"Value\",\n",
    "    \"Goal\",\n",
    "    \"Consequence\"\n",
    "]\n",
    "\n",
    "node_labels = basic_node_labels\n",
    "\n",
    "# define relationship types\n",
    "rel_types = [\"belongs_to\", \"had_role\", \"wanted_role\", \"has_direction\", \"has_value\",\n",
    "   \"has_influence_to\", \"introduces_consequences\"]"
   ]
  },
  {
   "cell_type": "code",
   "execution_count": 10,
   "id": "a4a99bff-5d62-420e-9353-95298aebce64",
   "metadata": {},
   "outputs": [],
   "source": [
    "prompt_template = '''\n",
    "You are a policical, financial, societal, geopolictical researcher tasks with extracting information from papers \n",
    "and structuring it in a property graph to inform further political, societal, geopolicitcal, financial and research Q&A.\n",
    "\n",
    "Extract the entities (nodes) and specify their type from the following Input text.\n",
    "Also extract the relationships between these nodes. the relationship direction goes from the start node to the end node. \n",
    "\n",
    "\n",
    "Return result as JSON using the following format:\n",
    "{{\"nodes\": [ {{\"id\": \"0\", \"label\": \"the type of entity\", \"properties\": {{\"name\": \"name of entity\" }} }}],\n",
    "  \"relationships\": [{{\"type\": \"TYPE_OF_RELATIONSHIP\", \"start_node_id\": \"0\", \"end_node_id\": \"1\", \"properties\": {{\"details\": \"Description of the relationship\"}} }}] }}\n",
    "\n",
    "- Use only the information from the Input text. Do not add any additional information.  \n",
    "- If the input text is empty, return empty Json. \n",
    "- Make sure to create as many nodes and relationships as needed to offer rich medical context for further research.\n",
    "- An AI knowledge assistant must be able to read this graph and immediately understand the context to inform detailed research questions. \n",
    "- Multiple documents will be ingested from different sources and we are using this property graph to connect information, so make sure entity types are fairly general. \n",
    "\n",
    "Use only fhe following nodes and relationships (if provided):\n",
    "{schema}\n",
    "\n",
    "Assign a unique ID (string) to each node, and reuse it to define relationships.\n",
    "Do respect the source and target node types for relationship and\n",
    "the relationship direction.\n",
    "\n",
    "Do not return any additional information other than the JSON in it.\n",
    "\n",
    "Examples:\n",
    "{examples}\n",
    "\n",
    "Input text:\n",
    "\n",
    "{text}\n",
    "'''\n"
   ]
  },
  {
   "cell_type": "code",
   "execution_count": null,
   "id": "5d38c36d",
   "metadata": {},
   "outputs": [],
   "source": [
    "# (Optional) Specify your own Neo4j schema\n",
    "neo4j_schema = \"\"\"\n",
    "Node properties:\n",
    "Person {name: STRING, chunk_index: INTEGER}\n",
    "Direction {name: STRING, chunk_index: INTEGER}\n",
    "PoliticalParty {name: STRING, chunk_index: INTEGER}\n",
    "Political Party {name: STRING, chunk_index: INTEGER}\n",
    "Position {name: STRING, chunk_index: INTEGER}\n",
    "Consequence {name: STRING, chunk_index: INTEGER}\n",
    "Value {name: STRING, chunk_index: INTEGER}\n",
    "Chunk {index: INTEGER, text: STRING}\n",
    "Country {name: French, chunk_index: INTEGER}\n",
    "Document {path: STRING, createdAt: STRING}\n",
    "EconomicCondition {name: String, chunk_index: INTEGER}\n",
    "Region {name, chunk_index, INTEGER}\n",
    "Resource {name: STRING, chunk_index: INTEGER}\n",
    "Threat {name, STRNG, chunk_index: INTEGER}\n",
    "Topic {name: STRING, chunk_index: INTEGER}\n",
    "\n",
    "\n",
    "Relationship properties:\n",
    "FROM_CHUNK\n",
    "FROM_DOCUMENT \n",
    "NEXT_CHUNK\n",
    "belongs_to\n",
    "had_role {details: STRING}\n",
    "has_direction\n",
    "has_goal {details: STRING}\n",
    "has_influence_to {details: STRING}\n",
    "has_role\n",
    "has_value {details: STRING}\n",
    "introduces_consequences {details: STRING}\n",
    "wanted_role {details: STRING}\n",
    "\n",
    "The relationships:\n",
    "(:Person)-[:has_role]->(:President)\n",
    "(:Person)-[:belongs_to]->(:Political Party)\n",
    "(:Political Party)-[:has_direction]->(:Direction)\n",
    "(:Direction)-[:has_value]->(:Value)\n",
    "(:Person)-[:has_influence_to]->(:Goal)\n",
    "(:Position)-[:has_influence_to]->(PoliticalParty)\n",
    "(:__Entity__)-[:has_value]->(:Value)\n",
    "(:Goal)-[:introduces_consequences]->(:Topic)\n",
    "(:Goal)-[:introduces_consequences]->(:Europe)\n",
    "(:Goal)-[:introduces_consequences]->(:Position)\n",
    "(:Person)-[:from_chunk]->(:Chunk)\n",
    "(:Chunk)-[:from_document]->(:Document)\n",
    "\"\"\""
   ]
  },
  {
   "cell_type": "code",
   "execution_count": 32,
   "id": "d14c37b7-8600-458c-9a25-a5f8f71e5517",
   "metadata": {},
   "outputs": [],
   "source": [
    "from neo4j_graphrag.experimental.components.text_splitters.fixed_size_splitter import FixedSizeSplitter\n",
    "from neo4j_graphrag.experimental.pipeline.kg_builder import SimpleKGPipeline\n",
    "\n",
    "kg_builder_pdf = SimpleKGPipeline(\n",
    "   llm=get_llm(type=Models.MISTRAL_AI),\n",
    "   driver=neo4j_driver,\n",
    "   text_splitter=FixedSizeSplitter(chunk_size=500, chunk_overlap=100),\n",
    "   embedder=embedder,\n",
    "   entities=node_labels,\n",
    "   relations=rel_types,\n",
    "   prompt_template=prompt_template,\n",
    "   from_pdf=True\n",
    ")"
   ]
  },
  {
   "cell_type": "code",
   "execution_count": 33,
   "id": "31e2a165-5adf-4d21-a361-364c2935e1c8",
   "metadata": {},
   "outputs": [
    {
     "name": "stdout",
     "output_type": "stream",
     "text": [
      "Processing : graph-dag.pdf\n",
      "Result: run_id='7886da62-24cb-466d-b34a-b7eaebd3b700' result={'resolver': {'number_of_nodes_to_resolve': 124, 'number_of_created_nodes': 110}}\n"
     ]
    }
   ],
   "source": [
    "pdf_file_paths = ['graph-dag.pdf']\n",
    "\n",
    "for path in pdf_file_paths:\n",
    "    print(f\"Processing : {path}\")\n",
    "    pdf_result = await kg_builder_pdf.run_async(file_path=os.path.join(ROOT_DIR, \"finai\", \"graph-rag\", \"data\", path))\n",
    "    print(f\"Result: {pdf_result}\")"
   ]
  },
  {
   "cell_type": "code",
   "execution_count": 28,
   "id": "857aa855-6448-4f35-b37e-5d40b4bcac44",
   "metadata": {},
   "outputs": [],
   "source": [
    "from neo4j_graphrag.indexes import create_vector_index\n",
    "\n",
    "create_vector_index(neo4j_driver, name=\"text_embeddings\", label=\"Chunk\",\n",
    "                   embedding_property=\"embedding\", dimensions=1536, similarity_fn=\"cosine\")"
   ]
  },
  {
   "cell_type": "code",
   "execution_count": 29,
   "id": "0bcc1745-0359-4e5d-9134-2dfef9709e3d",
   "metadata": {},
   "outputs": [],
   "source": [
    "from neo4j_graphrag.retrievers import VectorRetriever\n",
    "\n",
    "vector_retriever = VectorRetriever(\n",
    "   neo4j_driver,\n",
    "   index_name=\"text_embeddings\",\n",
    "   embedder=embedder,\n",
    "   return_properties=[\"text\"],\n",
    ")"
   ]
  },
  {
   "cell_type": "code",
   "execution_count": 30,
   "id": "2fafdd1c-6645-40ca-89cf-6f3baebcf86d",
   "metadata": {},
   "outputs": [],
   "source": [
    "from neo4j_graphrag.llm import OpenAILLM as LLM\n",
    "from neo4j_graphrag.generation import RagTemplate\n",
    "from neo4j_graphrag.generation.graphrag import GraphRAG\n",
    "\n",
    "llm = get_llm(type=Models.MISTRAL_AI)\n",
    "\n",
    "rag_template = RagTemplate(template='''Answer the Question using the following Context. Only respond with information mentioned in the Context. Do not inject any speculative information not mentioned.\n",
    "\n",
    "# Question:\n",
    "{query_text}\n",
    "\n",
    "# Context:\n",
    "{context}\n",
    "\n",
    "# Answer:\n",
    "''', expected_inputs=['query_text', 'context'])\n",
    "\n",
    "v_rag  = GraphRAG(llm=llm, retriever=vector_retriever, prompt_template=rag_template)\n",
    "# vc_rag = GraphRAG(llm=llm, retriever=vc_retriever, prompt_template=rag_template)"
   ]
  },
  {
   "cell_type": "code",
   "execution_count": 31,
   "id": "6c4d33cc-0acb-46a3-82e9-281bdd2a1701",
   "metadata": {},
   "outputs": [
    {
     "name": "stdout",
     "output_type": "stream",
     "text": [
      "Vector Response: \n",
      "The consequences to the French economy if an anti-euro party wins the election could include a short-term economic downturn, with potential labor shortages and trade disruptions leading to market stagnation or recession. Additionally, there could be negative market reactions, especially if there are doubts about France's commitment to the European single market. French economic isolation could undermine confidence in the euro, weakening the currency and pushing global investors away from French equities.\n",
      "\n",
      "The two political parties battling for the presidency are:\n",
      "- Le Pen (representing a populist, nationalist approach that questions existing EU agreements)\n",
      "- Macron (representing an economically liberal, pro-European framework)\n",
      "\n",
      "The main persons are:\n",
      "- Marine Le Pen\n",
      "- Emmanuel Macron\n",
      "\n",
      "===========================\n",
      "\n"
     ]
    }
   ],
   "source": [
    "q = \"What are the consequences to the french economy considering an anti-euro party wins the election. And tell me the two political parties that are battling each other for the presidency and also the main persons.\"\n",
    "\n",
    "print(f\"Vector Response: \\n{v_rag.search(q, retriever_config={'top_k':5}).answer}\")\n",
    "print(\"\\n===========================\\n\")"
   ]
  },
  {
   "cell_type": "code",
   "execution_count": 34,
   "id": "72d406ff",
   "metadata": {},
   "outputs": [
    {
     "name": "stdout",
     "output_type": "stream",
     "text": [
      "Vector Response: \n",
      "answer=\"If an anti-euro party wins the election in France, the immediate consequences to the French economy could include a short-term economic downturn, with potential labor shortages and trade disruptions leading to stagnation or even recession. This could also result in negative market reactions, especially if there are doubts about France’s commitment to the European single market.\\n\\nThe two political parties battling for the presidency are:\\n\\n1. Le Pen's party (representing a populist, nationalist approach that questions existing EU agreements)\\n2. Macron's party (representing an economically liberal, pro-European framework)\\n\\nThe main persons are:\\n\\n1. Le Pen (associated with the anti-euro party)\\n2. Macron (associated with the pro-European party)\\n\\nThe contrast between their agendas sets up a divide between an economically liberal, pro-European stance and a populist, nationalist approach.\" retriever_result=None\n",
      "\n",
      "===========================\n",
      "\n"
     ]
    }
   ],
   "source": [
    "q = \"What are the consequences to the french economy considering an anti-euro party wins the election. And tell me the two political parties that are battling each other for the presidency and also the main persons.\"\n",
    "\n",
    "print(f\"Vector Response: \\n{v_rag.search(q, retriever_config={'top_k':5})}\")\n",
    "print(\"\\n===========================\\n\")"
   ]
  },
  {
   "cell_type": "code",
   "execution_count": 36,
   "id": "3ba24763",
   "metadata": {},
   "outputs": [
    {
     "data": {
      "text/plain": [
       "{'answer': \"The two political parties battling each other for the presidency are not explicitly mentioned in the provided context. However, the context discusses two contrasting agendas: an economically liberal, pro-European framework and a populist, nationalist approach. The main persons are not specified in the context.\\n\\nRegarding the consequences to the French economy if an anti-euro party wins the election, the context mentions several potential impacts:\\n- A short-term economic downturn due to labor shortages and trade disruptions.\\n- Negative market reactions, especially if there are doubts about France's commitment to the European single market.\\n- Potential weakening of the euro and a push away from French equities by global investors.\\n- Introduces the threat of volatility and market uncertainty.\\n- Undermines confidence in France's role within the EU and the stability of the Eurozone.\\n- Sends a reassuring signal to investors who value regulatory consistency and see France's central place in the single market as a stabilizing force.\",\n",
       " 'retriever_result': None}"
      ]
     },
     "execution_count": 36,
     "metadata": {},
     "output_type": "execute_result"
    }
   ],
   "source": [
    "dict(v_rag.search(q, retriever_config={'top_k':5}))"
   ]
  },
  {
   "cell_type": "code",
   "execution_count": null,
   "id": "15c4fb46",
   "metadata": {},
   "outputs": [],
   "source": [
    "\"What are the consequences to the french economy considering an anti-euro party wins the election. And tell me the two political parties that are battling each other for the presidency and also the main persons.\"\n",
    "\n",
    "print(f\"Vector Response: \\n{v_rag.search(q, retriever_config={'top_k':5})}\")\n",
    "print(\"\\n===========================\\n\")"
   ]
  }
 ],
 "metadata": {
  "kernelspec": {
   "display_name": "graph-dag-venv",
   "language": "python",
   "name": "graph-dag-venv"
  },
  "language_info": {
   "codemirror_mode": {
    "name": "ipython",
    "version": 3
   },
   "file_extension": ".py",
   "mimetype": "text/x-python",
   "name": "python",
   "nbconvert_exporter": "python",
   "pygments_lexer": "ipython3",
   "version": "3.11.11"
  }
 },
 "nbformat": 4,
 "nbformat_minor": 5
}
